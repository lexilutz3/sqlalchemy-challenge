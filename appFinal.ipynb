{
 "cells": [
  {
   "cell_type": "code",
   "execution_count": 41,
   "metadata": {},
   "outputs": [],
   "source": [
    "# Import the dependencies.\n",
    "import os\n",
    "import numpy as np\n",
    "import pandas as pd\n",
    "import datetime as dt\n",
    "\n",
    "import sqlalchemy\n",
    "from sqlalchemy.ext.automap import automap_base\n",
    "from sqlalchemy.orm import Session\n",
    "from sqlalchemy import create_engine, func\n",
    "\n",
    "\n",
    "from flask import Flask, jsonify\n",
    "import nest_asyncio"
   ]
  },
  {
   "cell_type": "code",
   "execution_count": 42,
   "metadata": {},
   "outputs": [
    {
     "name": "stdout",
     "output_type": "stream",
     "text": [
      "['measurement', 'station']\n"
     ]
    },
    {
     "name": "stderr",
     "output_type": "stream",
     "text": [
      "/var/folders/7h/qdlrm1j10hs1qd6zbbzwy8sr0000gn/T/ipykernel_58321/1880448189.py:7: SADeprecationWarning: The AutomapBase.prepare.reflect parameter is deprecated and will be removed in a future release.  Reflection is enabled when AutomapBase.prepare.autoload_with is passed.\n",
      "  Base.prepare(engine, reflect=True)\n"
     ]
    }
   ],
   "source": [
    "# Database Setup\n",
    "# Create engine using the `hawaii.sqlite` database file\n",
    "engine = create_engine(\"sqlite:////Users/cillian/class/NU-VIRT-DATA-PT-02-2024-U-LOLC/02-Homework/10-Advanced-SQL/Starter_Code/Resources/hawaii.sqlite\")\n",
    "# Declare a Base using `automap_base()`\n",
    "Base = automap_base()\n",
    "# Use the Base class to reflect the database tables\n",
    "Base.prepare(engine, reflect=True)\n",
    "print(Base.classes.keys())"
   ]
  },
  {
   "cell_type": "code",
   "execution_count": 43,
   "metadata": {},
   "outputs": [],
   "source": [
    "# Assign the measurement class to a variable called `Measurement` and\n",
    "# the station class to a variable called `Station`\n",
    "Measurement = Base.classes.measurement\n",
    "Station = Base.classes.station"
   ]
  },
  {
   "cell_type": "code",
   "execution_count": 44,
   "metadata": {},
   "outputs": [],
   "source": [
    "# Create a session\n",
    "session = Session(engine)"
   ]
  },
  {
   "cell_type": "code",
   "execution_count": 45,
   "metadata": {},
   "outputs": [],
   "source": [
    "# Flask setup\n",
    "app = Flask(__name__)\n",
    "\n",
    "@app.route(\"/\")\n",
    "def welcome():\n",
    "    \"\"\"List all available api routes.\"\"\"\n",
    "    return (\n",
    "        f\"Available Routes:<br/>\"\n",
    "        f\"/api/v1.0/precipitation<br/>\"\n",
    "        f\"/api/v1.0/stations<br/>\"\n",
    "        f\"/api/v1.0/tobs<br/>\"\n",
    "        f\"/api/v1.0/<start><br/>\"\n",
    "        f\"/api/v1.0/<start>/<end><br/>\"\n",
    "    )\n",
    "\n",
    "@app.route(\"/api/v1.0/precipitation\")\n",
    "def precipitation():\n",
    "    #begin by creating a session\n",
    "    session = Session(engine)\n",
    "\n",
    "    #query precipitation data from the last year\n",
    "    most_recent_date = session.query(Measurement.date).order_by(Measurement.date.desc()).first()[0]\n",
    "    one_year_ago = (pd.to_datetime(most_recent_date) - pd.DateOffset(years=1)).strftime('%Y-%m-%d')\n",
    "    results = session.query(Measurement.date, Measurement.prcp).filter(Measurement.date >= one_year_ago).all()\n",
    "\n",
    "    session.close()\n",
    "\n",
    "    #convert the precipitation results into a dictionary\n",
    "    precipitation_dict = {date: prcp for date, prcp in results}\n",
    "    return jsonify(precipitation_dict)\n",
    "\n",
    "@app.route(\"/api/v1.0/stations\")\n",
    "def stations():\n",
    "    session = Session(engine)\n",
    "\n",
    "    #query all of the stations\n",
    "    results = session.query(Station.station).all()\n",
    "\n",
    "    session.close()\n",
    "\n",
    "    #convert tuples into a normal list\n",
    "    stations = list(np.ravel(results))\n",
    "    return jsonify(stations)\n",
    "\n",
    "@app.route(\"/api/v1.0/tobs\")\n",
    "def tobs():\n",
    "    session = Session(engine)\n",
    "\n",
    "    #query the dates and temp observations of the most active station from last year\n",
    "    most_active_station = session.query(Measurement.station, func.count(Measurement.station))\\\n",
    "                                 .group_by(Measurement.station)\\\n",
    "                                 .order_by(func.count(Measurement.station).desc()).first()[0]\n",
    "    one_year_ago = (pd.to_datetime(most_recent_date) - pd.DateOffset(years=1)).strftime('%Y-%m-%d')\n",
    "    results = session.query(Measurement.date, Measurement.tobs)\\\n",
    "                     .filter(Measurement.station == most_active_station)\\\n",
    "                     .filter(Measurement.date >= one_year_ago).all()\n",
    "\n",
    "    session.close()\n",
    "\n",
    "    tobs = list(np.ravel(results))\n",
    "    return jsonify(tobs)\n",
    "\n",
    "@app.route(\"/api/v1.0/<start>\")\n",
    "def start_date(start):\n",
    "    session = Session(engine)\n",
    "\n",
    "    #query min, max, and avg temps from start date to end date, including the start date but not the end date \n",
    "    results = session.query(func.min(Measurement.tobs), func.avg(Measurement.tobs), func.max(Measurement.tobs))\\\n",
    "              .filter(Measurement.date >= start).all()\n",
    "\n",
    "    session.close()\n",
    "\n",
    "    temps = list(np.ravel(results))\n",
    "    return jsonify(temps)\n",
    "\n",
    "@app.route(\"/api/v1.0/<start>/<end>\")\n",
    "def start_end_date(start, end):\n",
    "    session = Session(engine)\n",
    "\n",
    "    #query min, max, and avg temps from start date to end date, including both the start and end date\n",
    "    results = session.query(func.min(Measurement.tobs), func.avg(Measurement.tobs), func.max(Measurement.tobs))\\\n",
    "              .filter(Measurement.date >= start).filter(Measurement.date <= end).all()\n",
    "\n",
    "    session.close()\n",
    "\n",
    "    temps = list(np.ravel(results))\n",
    "    return jsonify(temps)"
   ]
  },
  {
   "cell_type": "code",
   "execution_count": 46,
   "metadata": {},
   "outputs": [
    {
     "name": "stdout",
     "output_type": "stream",
     "text": [
      " * Serving Flask app '__main__'\n",
      " * Debug mode: on\n"
     ]
    },
    {
     "name": "stderr",
     "output_type": "stream",
     "text": [
      "WARNING: This is a development server. Do not use it in a production deployment. Use a production WSGI server instead.\n",
      " * Running on http://127.0.0.1:5000\n",
      "Press CTRL+C to quit\n",
      "127.0.0.1 - - [26/Jul/2024 17:22:32] \"GET / HTTP/1.1\" 200 -\n",
      "127.0.0.1 - - [26/Jul/2024 17:22:33] \"GET /favicon.ico HTTP/1.1\" 404 -\n",
      "127.0.0.1 - - [26/Jul/2024 17:23:50] \"GET / HTTP/1.1\" 200 -\n"
     ]
    }
   ],
   "source": [
    "nest_asyncio.apply()\n",
    "\n",
    "if __name__ == '__main__':\n",
    "    app.run(debug=True, use_reloader=False)"
   ]
  },
  {
   "cell_type": "code",
   "execution_count": null,
   "metadata": {},
   "outputs": [],
   "source": [
    "# Flash routes\n",
    "/api/v1.0/precipitation\n",
    "/api/v1.0/stations\n",
    "/api/v1.0/tobs\n",
    "/api/v1.0/\n",
    "/api/v1.0//"
   ]
  }
 ],
 "metadata": {
  "kernelspec": {
   "display_name": "base",
   "language": "python",
   "name": "python3"
  },
  "language_info": {
   "codemirror_mode": {
    "name": "ipython",
    "version": 3
   },
   "file_extension": ".py",
   "mimetype": "text/x-python",
   "name": "python",
   "nbconvert_exporter": "python",
   "pygments_lexer": "ipython3",
   "version": "3.11.8"
  }
 },
 "nbformat": 4,
 "nbformat_minor": 2
}
